{
  "cells": [
    {
      "cell_type": "code",
      "execution_count": 98,
      "metadata": {
        "id": "f9nnBhu4FkpI"
      },
      "outputs": [],
      "source": [
        "import numpy\n",
        "from keras.models import Sequential\n",
        "from keras.layers import Dense, Dropout, Flatten, BatchNormalization, Activation\n",
        "from keras.layers.convolutional import Conv2D, MaxPooling2D\n",
        "from keras.constraints import maxnorm\n",
        "from keras.utils import np_utils\n",
        "import matplotlib.pyplot as plt"
      ]
    },
    {
      "cell_type": "code",
      "execution_count": 99,
      "metadata": {
        "id": "03zkvaO9FkxW"
      },
      "outputs": [],
      "source": [
        "seed = 21"
      ]
    },
    {
      "cell_type": "code",
      "execution_count": 100,
      "metadata": {
        "id": "MWmW67OsFk0R"
      },
      "outputs": [],
      "source": [
        "from keras.datasets import cifar10"
      ]
    },
    {
      "cell_type": "code",
      "execution_count": 101,
      "metadata": {
        "id": "_ORB-NJfFk3E"
      },
      "outputs": [],
      "source": [
        "(X_train, y_train), (X_test, y_test) = cifar10.load_data()"
      ]
    },
    {
      "cell_type": "code",
      "execution_count": 102,
      "metadata": {
        "colab": {
          "base_uri": "https://localhost:8080/"
        },
        "id": "WDPwKGvgFk5Z",
        "outputId": "9bfc2b24-6f87-4fd2-d77a-6522947a44c7"
      },
      "outputs": [
        {
          "name": "stdout",
          "output_type": "stream",
          "text": [
            "[[[ 59  62  63]\n",
            "  [ 43  46  45]\n",
            "  [ 50  48  43]\n",
            "  ...\n",
            "  [158 132 108]\n",
            "  [152 125 102]\n",
            "  [148 124 103]]\n",
            "\n",
            " [[ 16  20  20]\n",
            "  [  0   0   0]\n",
            "  [ 18   8   0]\n",
            "  ...\n",
            "  [123  88  55]\n",
            "  [119  83  50]\n",
            "  [122  87  57]]\n",
            "\n",
            " [[ 25  24  21]\n",
            "  [ 16   7   0]\n",
            "  [ 49  27   8]\n",
            "  ...\n",
            "  [118  84  50]\n",
            "  [120  84  50]\n",
            "  [109  73  42]]\n",
            "\n",
            " ...\n",
            "\n",
            " [[208 170  96]\n",
            "  [201 153  34]\n",
            "  [198 161  26]\n",
            "  ...\n",
            "  [160 133  70]\n",
            "  [ 56  31   7]\n",
            "  [ 53  34  20]]\n",
            "\n",
            " [[180 139  96]\n",
            "  [173 123  42]\n",
            "  [186 144  30]\n",
            "  ...\n",
            "  [184 148  94]\n",
            "  [ 97  62  34]\n",
            "  [ 83  53  34]]\n",
            "\n",
            " [[177 144 116]\n",
            "  [168 129  94]\n",
            "  [179 142  87]\n",
            "  ...\n",
            "  [216 184 140]\n",
            "  [151 118  84]\n",
            "  [123  92  72]]]\n"
          ]
        }
      ],
      "source": [
        "print(X_train[0])"
      ]
    },
    {
      "cell_type": "code",
      "execution_count": 103,
      "metadata": {
        "id": "5iBAOUwCFk7t"
      },
      "outputs": [],
      "source": [
        "X_train = X_train.astype(\"float32\")\n",
        "X_test = X_test.astype(\"float32\")\n",
        "X_train = X_train / 255.0\n",
        "X_test = X_test /255.0"
      ]
    },
    {
      "cell_type": "code",
      "execution_count": 104,
      "metadata": {
        "id": "mvrNhSDjFk-U"
      },
      "outputs": [],
      "source": [
        "y_train = np_utils.to_categorical(y_train)\n",
        "y_test = np_utils.to_categorical(y_test)\n",
        "class_num = y_test.shape[1]"
      ]
    },
    {
      "cell_type": "code",
      "execution_count": 105,
      "metadata": {
        "id": "0CE83Dv_FlAt"
      },
      "outputs": [],
      "source": [
        "model = Sequential()"
      ]
    },
    {
      "cell_type": "code",
      "execution_count": 106,
      "metadata": {
        "id": "CgKjloOyFlDJ"
      },
      "outputs": [],
      "source": [
        "model.add(Conv2D(32, (3, 3), input_shape=X_train.shape[1:], padding=\"same\"))\n",
        "model.add(Activation(\"relu\"))"
      ]
    },
    {
      "cell_type": "code",
      "execution_count": 107,
      "metadata": {
        "id": "ode_jLewFlFw"
      },
      "outputs": [],
      "source": [
        "model.add(Dropout(0.2))"
      ]
    },
    {
      "cell_type": "code",
      "execution_count": 108,
      "metadata": {
        "id": "aVg0KL_PFlIm"
      },
      "outputs": [],
      "source": [
        "model.add(BatchNormalization())"
      ]
    },
    {
      "cell_type": "code",
      "execution_count": 109,
      "metadata": {
        "id": "smhkOrlGFlLX"
      },
      "outputs": [],
      "source": [
        "model.add(Conv2D(64, (3,3), padding = \"same\"))\n",
        "model.add(Activation(\"relu\"))"
      ]
    },
    {
      "cell_type": "code",
      "execution_count": 110,
      "metadata": {
        "id": "Jf398FW2FlOK"
      },
      "outputs": [],
      "source": [
        "model.add(MaxPooling2D(pool_size=(2,2)))\n",
        "model.add(Dropout(0.2))\n",
        "model.add(BatchNormalization())"
      ]
    },
    {
      "cell_type": "code",
      "execution_count": 111,
      "metadata": {
        "id": "l3M-Rc8lFlQr"
      },
      "outputs": [],
      "source": [
        "model.add(Conv2D(64, (3,3), padding = \"same\"))\n",
        "model.add(Activation(\"relu\"))\n",
        "model.add(MaxPooling2D(pool_size=(2,2)))\n",
        "model.add(Dropout(0.2))\n",
        "model.add(BatchNormalization())\n",
        "\n",
        "model.add(Conv2D(128, (3,3), padding = \"same\"))\n",
        "model.add(Activation(\"relu\"))\n",
        "model.add(Dropout(0.2))\n",
        "model.add(BatchNormalization())"
      ]
    },
    {
      "cell_type": "code",
      "execution_count": 112,
      "metadata": {
        "id": "DD5qJEzAIos9"
      },
      "outputs": [],
      "source": [
        "model.add(Flatten())\n",
        "model.add(Dropout(0.2))"
      ]
    },
    {
      "cell_type": "code",
      "execution_count": 113,
      "metadata": {
        "id": "Nm_5_zJMIu8C"
      },
      "outputs": [],
      "source": [
        "model.add(Dense(256, kernel_constraint=maxnorm(3)))\n",
        "model.add(Activation(\"relu\"))\n",
        "model.add(Dropout(0.2))\n",
        "model.add(BatchNormalization())\n",
        "\n",
        "model.add(Dense(128, kernel_constraint=maxnorm(3)))\n",
        "model.add(Activation(\"relu\"))\n",
        "model.add(Dropout(0.2))\n",
        "model.add(BatchNormalization())"
      ]
    },
    {
      "cell_type": "code",
      "execution_count": 114,
      "metadata": {
        "id": "7T-YZ4QuJCIy"
      },
      "outputs": [],
      "source": [
        "model.add(Dense(class_num))\n",
        "model.add(Activation(\"softmax\"))"
      ]
    },
    {
      "cell_type": "code",
      "execution_count": 115,
      "metadata": {
        "id": "M-O2NG-xJCHB"
      },
      "outputs": [],
      "source": [
        "epochs = 25\n",
        "optimizer = \"Adam\""
      ]
    },
    {
      "cell_type": "code",
      "execution_count": 116,
      "metadata": {
        "id": "f-GmgWgcJCEE"
      },
      "outputs": [],
      "source": [
        "model.compile(loss = \"categorical_crossentropy\", optimizer = optimizer, metrics=[\"accuracy\"])"
      ]
    },
    {
      "cell_type": "code",
      "execution_count": 117,
      "metadata": {
        "colab": {
          "base_uri": "https://localhost:8080/"
        },
        "id": "mEZKI8d2JCCP",
        "outputId": "b1f85deb-3322-40ac-c7de-4dc8b9d0de3a"
      },
      "outputs": [
        {
          "name": "stdout",
          "output_type": "stream",
          "text": [
            "Model: \"sequential_2\"\n",
            "_________________________________________________________________\n",
            " Layer (type)                Output Shape              Param #   \n",
            "=================================================================\n",
            " conv2d_8 (Conv2D)           (None, 32, 32, 32)        896       \n",
            "                                                                 \n",
            " activation_14 (Activation)  (None, 32, 32, 32)        0         \n",
            "                                                                 \n",
            " dropout_14 (Dropout)        (None, 32, 32, 32)        0         \n",
            "                                                                 \n",
            " batch_normalization_12 (Bat  (None, 32, 32, 32)       128       \n",
            " chNormalization)                                                \n",
            "                                                                 \n",
            " conv2d_9 (Conv2D)           (None, 32, 32, 64)        18496     \n",
            "                                                                 \n",
            " activation_15 (Activation)  (None, 32, 32, 64)        0         \n",
            "                                                                 \n",
            " max_pooling2d_4 (MaxPooling  (None, 16, 16, 64)       0         \n",
            " 2D)                                                             \n",
            "                                                                 \n",
            " dropout_15 (Dropout)        (None, 16, 16, 64)        0         \n",
            "                                                                 \n",
            " batch_normalization_13 (Bat  (None, 16, 16, 64)       256       \n",
            " chNormalization)                                                \n",
            "                                                                 \n",
            " conv2d_10 (Conv2D)          (None, 16, 16, 64)        36928     \n",
            "                                                                 \n",
            " activation_16 (Activation)  (None, 16, 16, 64)        0         \n",
            "                                                                 \n",
            " max_pooling2d_5 (MaxPooling  (None, 8, 8, 64)         0         \n",
            " 2D)                                                             \n",
            "                                                                 \n",
            " dropout_16 (Dropout)        (None, 8, 8, 64)          0         \n",
            "                                                                 \n",
            " batch_normalization_14 (Bat  (None, 8, 8, 64)         256       \n",
            " chNormalization)                                                \n",
            "                                                                 \n",
            " conv2d_11 (Conv2D)          (None, 8, 8, 128)         73856     \n",
            "                                                                 \n",
            " activation_17 (Activation)  (None, 8, 8, 128)         0         \n",
            "                                                                 \n",
            " dropout_17 (Dropout)        (None, 8, 8, 128)         0         \n",
            "                                                                 \n",
            " batch_normalization_15 (Bat  (None, 8, 8, 128)        512       \n",
            " chNormalization)                                                \n",
            "                                                                 \n",
            " flatten_2 (Flatten)         (None, 8192)              0         \n",
            "                                                                 \n",
            " dropout_18 (Dropout)        (None, 8192)              0         \n",
            "                                                                 \n",
            " dense_6 (Dense)             (None, 256)               2097408   \n",
            "                                                                 \n",
            " activation_18 (Activation)  (None, 256)               0         \n",
            "                                                                 \n",
            " dropout_19 (Dropout)        (None, 256)               0         \n",
            "                                                                 \n",
            " batch_normalization_16 (Bat  (None, 256)              1024      \n",
            " chNormalization)                                                \n",
            "                                                                 \n",
            " dense_7 (Dense)             (None, 128)               32896     \n",
            "                                                                 \n",
            " activation_19 (Activation)  (None, 128)               0         \n",
            "                                                                 \n",
            " dropout_20 (Dropout)        (None, 128)               0         \n",
            "                                                                 \n",
            " batch_normalization_17 (Bat  (None, 128)              512       \n",
            " chNormalization)                                                \n",
            "                                                                 \n",
            " dense_8 (Dense)             (None, 10)                1290      \n",
            "                                                                 \n",
            " activation_20 (Activation)  (None, 10)                0         \n",
            "                                                                 \n",
            "=================================================================\n",
            "Total params: 2,264,458\n",
            "Trainable params: 2,263,114\n",
            "Non-trainable params: 1,344\n",
            "_________________________________________________________________\n",
            "None\n"
          ]
        }
      ],
      "source": [
        "print(model.summary())"
      ]
    },
    {
      "cell_type": "code",
      "execution_count": 118,
      "metadata": {
        "colab": {
          "base_uri": "https://localhost:8080/"
        },
        "id": "pBo0FwM3JB3N",
        "outputId": "9ef082a4-90b5-4799-8e51-d92f41e827b8"
      },
      "outputs": [
        {
          "name": "stdout",
          "output_type": "stream",
          "text": [
            "Epoch 1/25\n",
            "782/782 [==============================] - 23s 27ms/step - loss: 1.4926 - accuracy: 0.4719 - val_loss: 1.5537 - val_accuracy: 0.4593\n",
            "Epoch 2/25\n",
            "782/782 [==============================] - 20s 26ms/step - loss: 1.0198 - accuracy: 0.6389 - val_loss: 0.8704 - val_accuracy: 0.6894\n",
            "Epoch 3/25\n",
            "782/782 [==============================] - 20s 26ms/step - loss: 0.8568 - accuracy: 0.6969 - val_loss: 0.8142 - val_accuracy: 0.7133\n",
            "Epoch 4/25\n",
            "782/782 [==============================] - 20s 26ms/step - loss: 0.7648 - accuracy: 0.7321 - val_loss: 0.8152 - val_accuracy: 0.7087\n",
            "Epoch 5/25\n",
            "782/782 [==============================] - 20s 26ms/step - loss: 0.7121 - accuracy: 0.7518 - val_loss: 0.6975 - val_accuracy: 0.7527\n",
            "Epoch 6/25\n",
            "782/782 [==============================] - 20s 26ms/step - loss: 0.6694 - accuracy: 0.7656 - val_loss: 0.6507 - val_accuracy: 0.7725\n",
            "Epoch 7/25\n",
            "782/782 [==============================] - 21s 26ms/step - loss: 0.6281 - accuracy: 0.7808 - val_loss: 0.7330 - val_accuracy: 0.7447\n",
            "Epoch 8/25\n",
            "782/782 [==============================] - 20s 26ms/step - loss: 0.6033 - accuracy: 0.7890 - val_loss: 0.6974 - val_accuracy: 0.7631\n",
            "Epoch 9/25\n",
            "782/782 [==============================] - 20s 26ms/step - loss: 0.5762 - accuracy: 0.7970 - val_loss: 0.6377 - val_accuracy: 0.7786\n",
            "Epoch 10/25\n",
            "782/782 [==============================] - 20s 26ms/step - loss: 0.5648 - accuracy: 0.8033 - val_loss: 0.5787 - val_accuracy: 0.7998\n",
            "Epoch 11/25\n",
            "782/782 [==============================] - 21s 27ms/step - loss: 0.5355 - accuracy: 0.8126 - val_loss: 0.6128 - val_accuracy: 0.7920\n",
            "Epoch 12/25\n",
            "782/782 [==============================] - 21s 26ms/step - loss: 0.5278 - accuracy: 0.8158 - val_loss: 0.5506 - val_accuracy: 0.8103\n",
            "Epoch 13/25\n",
            "782/782 [==============================] - 20s 26ms/step - loss: 0.5091 - accuracy: 0.8211 - val_loss: 0.5618 - val_accuracy: 0.8089\n",
            "Epoch 14/25\n",
            "782/782 [==============================] - 20s 26ms/step - loss: 0.4942 - accuracy: 0.8268 - val_loss: 0.6137 - val_accuracy: 0.7940\n",
            "Epoch 15/25\n",
            "782/782 [==============================] - 20s 25ms/step - loss: 0.4901 - accuracy: 0.8272 - val_loss: 0.5905 - val_accuracy: 0.7984\n",
            "Epoch 16/25\n",
            "782/782 [==============================] - 20s 25ms/step - loss: 0.4709 - accuracy: 0.8350 - val_loss: 0.5662 - val_accuracy: 0.8123\n",
            "Epoch 17/25\n",
            "782/782 [==============================] - 20s 26ms/step - loss: 0.4687 - accuracy: 0.8355 - val_loss: 0.5214 - val_accuracy: 0.8203\n",
            "Epoch 18/25\n",
            "782/782 [==============================] - 20s 26ms/step - loss: 0.4641 - accuracy: 0.8377 - val_loss: 0.5272 - val_accuracy: 0.8191\n",
            "Epoch 19/25\n",
            "782/782 [==============================] - 20s 26ms/step - loss: 0.4551 - accuracy: 0.8401 - val_loss: 0.5188 - val_accuracy: 0.8222\n",
            "Epoch 20/25\n",
            "782/782 [==============================] - 20s 25ms/step - loss: 0.4421 - accuracy: 0.8447 - val_loss: 0.5481 - val_accuracy: 0.8143\n",
            "Epoch 21/25\n",
            "782/782 [==============================] - 20s 25ms/step - loss: 0.4430 - accuracy: 0.8452 - val_loss: 0.5097 - val_accuracy: 0.8254\n",
            "Epoch 22/25\n",
            "782/782 [==============================] - 20s 26ms/step - loss: 0.4284 - accuracy: 0.8497 - val_loss: 0.5246 - val_accuracy: 0.8204\n",
            "Epoch 23/25\n",
            "782/782 [==============================] - 20s 26ms/step - loss: 0.4248 - accuracy: 0.8505 - val_loss: 0.5260 - val_accuracy: 0.8260\n",
            "Epoch 24/25\n",
            "782/782 [==============================] - 20s 26ms/step - loss: 0.4172 - accuracy: 0.8545 - val_loss: 0.5222 - val_accuracy: 0.8267\n",
            "Epoch 25/25\n",
            "782/782 [==============================] - 20s 26ms/step - loss: 0.4197 - accuracy: 0.8531 - val_loss: 0.5222 - val_accuracy: 0.8224\n"
          ]
        }
      ],
      "source": [
        "numpy.random.seed(seed)\n",
        "history = model.fit(X_train, y_train, validation_data=(X_test, y_test), epochs=epochs, batch_size=64)"
      ]
    },
    {
      "cell_type": "code",
      "execution_count": 119,
      "metadata": {
        "colab": {
          "base_uri": "https://localhost:8080/"
        },
        "id": "4DKFCOYsJzax",
        "outputId": "ab26ef67-49e6-432f-dc79-8be583068591"
      },
      "outputs": [
        {
          "name": "stdout",
          "output_type": "stream",
          "text": [
            "Accuracy: 82.24%\n"
          ]
        }
      ],
      "source": [
        "scores = model.evaluate(X_test, y_test, verbose=0)\n",
        "print(\"Accuracy: %.2f%%\" % (scores[1]*100))"
      ]
    },
    {
      "cell_type": "code",
      "execution_count": 120,
      "metadata": {
        "colab": {
          "base_uri": "https://localhost:8080/",
          "height": 573
        },
        "id": "57u5BuzHVLMV",
        "outputId": "f7d0329c-a0f3-4b91-c058-1fcb8dae5f2f"
      },
      "outputs": [
        {
          "data": {
            "image/png": "[encoded data removed]",
            "text/plain": [
              "<Figure size 432x288 with 1 Axes>"
            ]
          },
          "metadata": {
            "needs_background": "light"
          },
          "output_type": "display_data"
        },
        {
          "data": {
            "image/png": "[encoded data removed]",
            "text/plain": [
              "<Figure size 432x288 with 1 Axes>"
            ]
          },
          "metadata": {
            "needs_background": "light"
          },
          "output_type": "display_data"
        }
      ],
      "source": [
        "# summarize history for accuracy\n",
        "plt.plot(history.history['accuracy'])\n",
        "plt.plot(history.history['val_accuracy'])\n",
        "plt.title('model accuracy')\n",
        "plt.ylabel('accuracy')\n",
        "plt.xlabel('epoch')\n",
        "plt.legend(['train', 'test'], loc='upper left')\n",
        "plt.show()\n",
        "# summarize history for loss\n",
        "plt.plot(history.history['loss'])\n",
        "plt.plot(history.history['val_loss'])\n",
        "plt.title('model loss')\n",
        "plt.ylabel('loss')\n",
        "plt.xlabel('epoch')\n",
        "plt.legend(['train', 'test'], loc='upper left')\n",
        "plt.show()"
      ]
    }
  ],
  "metadata": {
    "accelerator": "GPU",
    "colab": {
      "collapsed_sections": [],
      "name": "Untitled24.ipynb",
      "provenance": []
    },
    "kernelspec": {
      "display_name": "Python 3",
      "name": "python3"
    },
    "language_info": {
      "name": "python"
    }
  },
  "nbformat": 4,
  "nbformat_minor": 0
}
