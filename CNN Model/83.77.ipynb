{
  "nbformat": 4,
  "nbformat_minor": 0,
  "metadata": {
    "colab": {
      "name": "Untitled24.ipynb",
      "provenance": [],
      "collapsed_sections": []
    },
    "kernelspec": {
      "name": "python3",
      "display_name": "Python 3"
    },
    "language_info": {
      "name": "python"
    },
    "accelerator": "GPU"
  },
  "cells": [
    {
      "cell_type": "code",
      "metadata": {
        "id": "f9nnBhu4FkpI"
      },
      "source": [
        "import numpy\n",
        "from keras.models import Sequential\n",
        "from keras.layers import Dense, Dropout, Flatten, BatchNormalization, Activation\n",
        "from keras.layers.convolutional import Conv2D, MaxPooling2D\n",
        "from keras.constraints import maxnorm\n",
        "from keras.utils import np_utils"
      ],
      "execution_count": 25,
      "outputs": []
    },
    {
      "cell_type": "code",
      "metadata": {
        "id": "03zkvaO9FkxW"
      },
      "source": [
        "seed = 21"
      ],
      "execution_count": 26,
      "outputs": []
    },
    {
      "cell_type": "code",
      "metadata": {
        "id": "MWmW67OsFk0R"
      },
      "source": [
        "from keras.datasets import cifar10"
      ],
      "execution_count": 27,
      "outputs": []
    },
    {
      "cell_type": "code",
      "metadata": {
        "colab": {
          "base_uri": "https://localhost:8080/"
        },
        "id": "_ORB-NJfFk3E",
        "outputId": "79aad8d3-84f5-4fe0-a482-08e86cc3d41f"
      },
      "source": [
        "(X_train, y_train), (X_test, y_test) = cifar10.load_data()"
      ],
      "execution_count": 28,
      "outputs": [
        {
          "output_type": "stream",
          "name": "stdout",
          "text": [
            "Downloading data from https://www.cs.toronto.edu/~kriz/cifar-10-python.tar.gz\n",
            "170500096/170498071 [==============================] - 2s 0us/step\n",
            "170508288/170498071 [==============================] - 2s 0us/step\n"
          ]
        }
      ]
    },
    {
      "cell_type": "code",
      "metadata": {
        "colab": {
          "base_uri": "https://localhost:8080/"
        },
        "id": "WDPwKGvgFk5Z",
        "outputId": "c0e436df-bcdf-4105-8d88-114d3174c45f"
      },
      "source": [
        "print(X_train[0])"
      ],
      "execution_count": 30,
      "outputs": [
        {
          "output_type": "stream",
          "name": "stdout",
          "text": [
            "[[[ 59  62  63]\n",
            "  [ 43  46  45]\n",
            "  [ 50  48  43]\n",
            "  ...\n",
            "  [158 132 108]\n",
            "  [152 125 102]\n",
            "  [148 124 103]]\n",
            "\n",
            " [[ 16  20  20]\n",
            "  [  0   0   0]\n",
            "  [ 18   8   0]\n",
            "  ...\n",
            "  [123  88  55]\n",
            "  [119  83  50]\n",
            "  [122  87  57]]\n",
            "\n",
            " [[ 25  24  21]\n",
            "  [ 16   7   0]\n",
            "  [ 49  27   8]\n",
            "  ...\n",
            "  [118  84  50]\n",
            "  [120  84  50]\n",
            "  [109  73  42]]\n",
            "\n",
            " ...\n",
            "\n",
            " [[208 170  96]\n",
            "  [201 153  34]\n",
            "  [198 161  26]\n",
            "  ...\n",
            "  [160 133  70]\n",
            "  [ 56  31   7]\n",
            "  [ 53  34  20]]\n",
            "\n",
            " [[180 139  96]\n",
            "  [173 123  42]\n",
            "  [186 144  30]\n",
            "  ...\n",
            "  [184 148  94]\n",
            "  [ 97  62  34]\n",
            "  [ 83  53  34]]\n",
            "\n",
            " [[177 144 116]\n",
            "  [168 129  94]\n",
            "  [179 142  87]\n",
            "  ...\n",
            "  [216 184 140]\n",
            "  [151 118  84]\n",
            "  [123  92  72]]]\n"
          ]
        }
      ]
    },
    {
      "cell_type": "code",
      "metadata": {
        "id": "5iBAOUwCFk7t"
      },
      "source": [
        "X_train = X_train.astype(\"float32\")\n",
        "X_test = X_test.astype(\"float32\")\n",
        "X_train = X_train / 255.0\n",
        "X_test = X_test /255.0"
      ],
      "execution_count": 31,
      "outputs": []
    },
    {
      "cell_type": "code",
      "metadata": {
        "id": "mvrNhSDjFk-U"
      },
      "source": [
        "y_train = np_utils.to_categorical(y_train)\n",
        "y_test = np_utils.to_categorical(y_test)\n",
        "class_num = y_test.shape[1]"
      ],
      "execution_count": 32,
      "outputs": []
    },
    {
      "cell_type": "code",
      "metadata": {
        "id": "0CE83Dv_FlAt"
      },
      "source": [
        "model = Sequential()"
      ],
      "execution_count": 33,
      "outputs": []
    },
    {
      "cell_type": "code",
      "metadata": {
        "id": "CgKjloOyFlDJ"
      },
      "source": [
        "model.add(Conv2D(32, (3, 3), input_shape=X_train.shape[1:], padding=\"same\"))\n",
        "model.add(Activation(\"relu\"))"
      ],
      "execution_count": 34,
      "outputs": []
    },
    {
      "cell_type": "code",
      "metadata": {
        "id": "ode_jLewFlFw"
      },
      "source": [
        "model.add(Dropout(0.2))"
      ],
      "execution_count": 35,
      "outputs": []
    },
    {
      "cell_type": "code",
      "metadata": {
        "id": "aVg0KL_PFlIm"
      },
      "source": [
        "model.add(BatchNormalization())"
      ],
      "execution_count": 36,
      "outputs": []
    },
    {
      "cell_type": "code",
      "metadata": {
        "id": "smhkOrlGFlLX"
      },
      "source": [
        "model.add(Conv2D(64, (3,3), padding = \"same\"))\n",
        "model.add(Activation(\"relu\"))"
      ],
      "execution_count": 37,
      "outputs": []
    },
    {
      "cell_type": "code",
      "metadata": {
        "id": "Jf398FW2FlOK"
      },
      "source": [
        "model.add(MaxPooling2D(pool_size=(2,2)))\n",
        "model.add(Dropout(0.2))\n",
        "model.add(BatchNormalization())"
      ],
      "execution_count": 38,
      "outputs": []
    },
    {
      "cell_type": "code",
      "metadata": {
        "id": "l3M-Rc8lFlQr"
      },
      "source": [
        "model.add(Conv2D(64, (3,3), padding = \"same\"))\n",
        "model.add(Activation(\"relu\"))\n",
        "model.add(MaxPooling2D(pool_size=(2,2)))\n",
        "model.add(Dropout(0.2))\n",
        "model.add(BatchNormalization())\n",
        "\n",
        "model.add(Conv2D(128, (3,3), padding = \"same\"))\n",
        "model.add(Activation(\"relu\"))\n",
        "model.add(Dropout(0.2))\n",
        "model.add(BatchNormalization())"
      ],
      "execution_count": 39,
      "outputs": []
    },
    {
      "cell_type": "code",
      "metadata": {
        "id": "DD5qJEzAIos9"
      },
      "source": [
        "model.add(Flatten())\n",
        "model.add(Dropout(0.2))"
      ],
      "execution_count": 40,
      "outputs": []
    },
    {
      "cell_type": "code",
      "metadata": {
        "id": "Nm_5_zJMIu8C"
      },
      "source": [
        "model.add(Dense(256, kernel_constraint=maxnorm(3)))\n",
        "model.add(Activation(\"relu\"))\n",
        "model.add(Dropout(0.2))\n",
        "model.add(BatchNormalization())\n",
        "\n",
        "model.add(Dense(128, kernel_constraint=maxnorm(3)))\n",
        "model.add(Activation(\"relu\"))\n",
        "model.add(Dropout(0.2))\n",
        "model.add(BatchNormalization())"
      ],
      "execution_count": 41,
      "outputs": []
    },
    {
      "cell_type": "code",
      "metadata": {
        "id": "7T-YZ4QuJCIy"
      },
      "source": [
        "model.add(Dense(class_num))\n",
        "model.add(Activation(\"softmax\"))"
      ],
      "execution_count": 42,
      "outputs": []
    },
    {
      "cell_type": "code",
      "metadata": {
        "id": "M-O2NG-xJCHB"
      },
      "source": [
        "epochs = 25\n",
        "optimizer = \"adam\""
      ],
      "execution_count": 43,
      "outputs": []
    },
    {
      "cell_type": "code",
      "metadata": {
        "id": "f-GmgWgcJCEE"
      },
      "source": [
        "model.compile(loss = \"categorical_crossentropy\", optimizer = optimizer, metrics=[\"accuracy\"])"
      ],
      "execution_count": 44,
      "outputs": []
    },
    {
      "cell_type": "code",
      "metadata": {
        "colab": {
          "base_uri": "https://localhost:8080/"
        },
        "id": "mEZKI8d2JCCP",
        "outputId": "439e71c7-1a72-4b0d-ad7c-ea54b68678af"
      },
      "source": [
        "print(model.summary())"
      ],
      "execution_count": 46,
      "outputs": [
        {
          "output_type": "stream",
          "name": "stdout",
          "text": [
            "Model: \"sequential\"\n",
            "_________________________________________________________________\n",
            " Layer (type)                Output Shape              Param #   \n",
            "=================================================================\n",
            " conv2d (Conv2D)             (None, 32, 32, 32)        896       \n",
            "                                                                 \n",
            " activation (Activation)     (None, 32, 32, 32)        0         \n",
            "                                                                 \n",
            " dropout (Dropout)           (None, 32, 32, 32)        0         \n",
            "                                                                 \n",
            " batch_normalization (BatchN  (None, 32, 32, 32)       128       \n",
            " ormalization)                                                   \n",
            "                                                                 \n",
            " conv2d_1 (Conv2D)           (None, 32, 32, 64)        18496     \n",
            "                                                                 \n",
            " activation_1 (Activation)   (None, 32, 32, 64)        0         \n",
            "                                                                 \n",
            " max_pooling2d (MaxPooling2D  (None, 16, 16, 64)       0         \n",
            " )                                                               \n",
            "                                                                 \n",
            " dropout_1 (Dropout)         (None, 16, 16, 64)        0         \n",
            "                                                                 \n",
            " batch_normalization_1 (Batc  (None, 16, 16, 64)       256       \n",
            " hNormalization)                                                 \n",
            "                                                                 \n",
            " conv2d_2 (Conv2D)           (None, 16, 16, 64)        36928     \n",
            "                                                                 \n",
            " activation_2 (Activation)   (None, 16, 16, 64)        0         \n",
            "                                                                 \n",
            " max_pooling2d_1 (MaxPooling  (None, 8, 8, 64)         0         \n",
            " 2D)                                                             \n",
            "                                                                 \n",
            " dropout_2 (Dropout)         (None, 8, 8, 64)          0         \n",
            "                                                                 \n",
            " batch_normalization_2 (Batc  (None, 8, 8, 64)         256       \n",
            " hNormalization)                                                 \n",
            "                                                                 \n",
            " conv2d_3 (Conv2D)           (None, 8, 8, 128)         73856     \n",
            "                                                                 \n",
            " activation_3 (Activation)   (None, 8, 8, 128)         0         \n",
            "                                                                 \n",
            " dropout_3 (Dropout)         (None, 8, 8, 128)         0         \n",
            "                                                                 \n",
            " batch_normalization_3 (Batc  (None, 8, 8, 128)        512       \n",
            " hNormalization)                                                 \n",
            "                                                                 \n",
            " flatten (Flatten)           (None, 8192)              0         \n",
            "                                                                 \n",
            " dropout_4 (Dropout)         (None, 8192)              0         \n",
            "                                                                 \n",
            " dense (Dense)               (None, 256)               2097408   \n",
            "                                                                 \n",
            " activation_4 (Activation)   (None, 256)               0         \n",
            "                                                                 \n",
            " dropout_5 (Dropout)         (None, 256)               0         \n",
            "                                                                 \n",
            " batch_normalization_4 (Batc  (None, 256)              1024      \n",
            " hNormalization)                                                 \n",
            "                                                                 \n",
            " dense_1 (Dense)             (None, 128)               32896     \n",
            "                                                                 \n",
            " activation_5 (Activation)   (None, 128)               0         \n",
            "                                                                 \n",
            " dropout_6 (Dropout)         (None, 128)               0         \n",
            "                                                                 \n",
            " batch_normalization_5 (Batc  (None, 128)              512       \n",
            " hNormalization)                                                 \n",
            "                                                                 \n",
            " dense_2 (Dense)             (None, 10)                1290      \n",
            "                                                                 \n",
            " activation_6 (Activation)   (None, 10)                0         \n",
            "                                                                 \n",
            "=================================================================\n",
            "Total params: 2,264,458\n",
            "Trainable params: 2,263,114\n",
            "Non-trainable params: 1,344\n",
            "_________________________________________________________________\n",
            "None\n"
          ]
        }
      ]
    },
    {
      "cell_type": "code",
      "metadata": {
        "colab": {
          "base_uri": "https://localhost:8080/"
        },
        "id": "pBo0FwM3JB3N",
        "outputId": "9f5581b4-340e-4307-e2a0-db2d0971377e"
      },
      "source": [
        "numpy.random.seed(seed)\n",
        "model.fit(X_train, y_train, validation_data=(X_test, y_test), epochs=epochs, batch_size=64)"
      ],
      "execution_count": 47,
      "outputs": [
        {
          "output_type": "stream",
          "name": "stdout",
          "text": [
            "Epoch 1/25\n",
            "782/782 [==============================] - 32s 27ms/step - loss: 1.4998 - accuracy: 0.4673 - val_loss: 1.1265 - val_accuracy: 0.5975\n",
            "Epoch 2/25\n",
            "782/782 [==============================] - 20s 26ms/step - loss: 1.0202 - accuracy: 0.6390 - val_loss: 0.8534 - val_accuracy: 0.6975\n",
            "Epoch 3/25\n",
            "782/782 [==============================] - 20s 25ms/step - loss: 0.8549 - accuracy: 0.7000 - val_loss: 0.9891 - val_accuracy: 0.6576\n",
            "Epoch 4/25\n",
            "782/782 [==============================] - 21s 26ms/step - loss: 0.7635 - accuracy: 0.7320 - val_loss: 0.6922 - val_accuracy: 0.7581\n",
            "Epoch 5/25\n",
            "782/782 [==============================] - 20s 26ms/step - loss: 0.7062 - accuracy: 0.7504 - val_loss: 0.8641 - val_accuracy: 0.6983\n",
            "Epoch 6/25\n",
            "782/782 [==============================] - 20s 26ms/step - loss: 0.6588 - accuracy: 0.7686 - val_loss: 0.6733 - val_accuracy: 0.7679\n",
            "Epoch 7/25\n",
            "782/782 [==============================] - 20s 26ms/step - loss: 0.6214 - accuracy: 0.7840 - val_loss: 0.6074 - val_accuracy: 0.7880\n",
            "Epoch 8/25\n",
            "782/782 [==============================] - 20s 26ms/step - loss: 0.5933 - accuracy: 0.7933 - val_loss: 0.6588 - val_accuracy: 0.7739\n",
            "Epoch 9/25\n",
            "782/782 [==============================] - 20s 25ms/step - loss: 0.5690 - accuracy: 0.8028 - val_loss: 0.6372 - val_accuracy: 0.7826\n",
            "Epoch 10/25\n",
            "782/782 [==============================] - 20s 26ms/step - loss: 0.5448 - accuracy: 0.8101 - val_loss: 0.7004 - val_accuracy: 0.7623\n",
            "Epoch 11/25\n",
            "782/782 [==============================] - 20s 26ms/step - loss: 0.5264 - accuracy: 0.8154 - val_loss: 0.5836 - val_accuracy: 0.8005\n",
            "Epoch 12/25\n",
            "782/782 [==============================] - 20s 26ms/step - loss: 0.5210 - accuracy: 0.8166 - val_loss: 0.5595 - val_accuracy: 0.8072\n",
            "Epoch 13/25\n",
            "782/782 [==============================] - 20s 26ms/step - loss: 0.5048 - accuracy: 0.8231 - val_loss: 0.6177 - val_accuracy: 0.7925\n",
            "Epoch 14/25\n",
            "782/782 [==============================] - 20s 26ms/step - loss: 0.4945 - accuracy: 0.8273 - val_loss: 0.5409 - val_accuracy: 0.8139\n",
            "Epoch 15/25\n",
            "782/782 [==============================] - 20s 26ms/step - loss: 0.4825 - accuracy: 0.8321 - val_loss: 0.5504 - val_accuracy: 0.8125\n",
            "Epoch 16/25\n",
            "782/782 [==============================] - 20s 25ms/step - loss: 0.4746 - accuracy: 0.8317 - val_loss: 0.5438 - val_accuracy: 0.8191\n",
            "Epoch 17/25\n",
            "782/782 [==============================] - 20s 25ms/step - loss: 0.4662 - accuracy: 0.8359 - val_loss: 0.5623 - val_accuracy: 0.8099\n",
            "Epoch 18/25\n",
            "782/782 [==============================] - 21s 26ms/step - loss: 0.4585 - accuracy: 0.8390 - val_loss: 0.5575 - val_accuracy: 0.8112\n",
            "Epoch 19/25\n",
            "782/782 [==============================] - 20s 25ms/step - loss: 0.4475 - accuracy: 0.8456 - val_loss: 0.5328 - val_accuracy: 0.8197\n",
            "Epoch 20/25\n",
            "782/782 [==============================] - 20s 26ms/step - loss: 0.4413 - accuracy: 0.8453 - val_loss: 0.6049 - val_accuracy: 0.7962\n",
            "Epoch 21/25\n",
            "782/782 [==============================] - 20s 26ms/step - loss: 0.4358 - accuracy: 0.8475 - val_loss: 0.5017 - val_accuracy: 0.8265\n",
            "Epoch 22/25\n",
            "782/782 [==============================] - 20s 25ms/step - loss: 0.4316 - accuracy: 0.8481 - val_loss: 0.5076 - val_accuracy: 0.8297\n",
            "Epoch 23/25\n",
            "782/782 [==============================] - 20s 25ms/step - loss: 0.4222 - accuracy: 0.8514 - val_loss: 0.5447 - val_accuracy: 0.8166\n",
            "Epoch 24/25\n",
            "782/782 [==============================] - 20s 25ms/step - loss: 0.4205 - accuracy: 0.8536 - val_loss: 0.5094 - val_accuracy: 0.8296\n",
            "Epoch 25/25\n",
            "782/782 [==============================] - 20s 26ms/step - loss: 0.4135 - accuracy: 0.8540 - val_loss: 0.4890 - val_accuracy: 0.8377\n"
          ]
        },
        {
          "output_type": "execute_result",
          "data": {
            "text/plain": [
              "<keras.callbacks.History at 0x7f17f012ecd0>"
            ]
          },
          "metadata": {},
          "execution_count": 47
        }
      ]
    },
    {
      "cell_type": "code",
      "metadata": {
        "colab": {
          "base_uri": "https://localhost:8080/"
        },
        "id": "4DKFCOYsJzax",
        "outputId": "e401d9d1-de05-42e6-cad6-dca16fb91b91"
      },
      "source": [
        "scores = model.evaluate(X_test, y_test, verbose=0)\n",
        "print(\"Accuracy: %.2f%%\" % (scores[1]*100))"
      ],
      "execution_count": 48,
      "outputs": [
        {
          "output_type": "stream",
          "name": "stdout",
          "text": [
            "Accuracy: 83.77%\n"
          ]
        }
      ]
    },
    {
      "cell_type": "code",
      "metadata": {
        "id": "dRJ35y9gKHUq"
      },
      "source": [
        ""
      ],
      "execution_count": null,
      "outputs": []
    }
  ]
}